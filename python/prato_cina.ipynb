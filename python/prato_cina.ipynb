{
 "nbformat": 4,
 "nbformat_minor": 2,
 "metadata": {
  "language_info": {
   "name": "python",
   "codemirror_mode": {
    "name": "ipython",
    "version": 3
   },
   "version": "3.7.5-final"
  },
  "orig_nbformat": 2,
  "file_extension": ".py",
  "mimetype": "text/x-python",
  "name": "python",
  "npconvert_exporter": "python",
  "pygments_lexer": "ipython3",
  "version": 3,
  "kernelspec": {
   "name": "python37564bit18f7ba923d15462caa950c2a456c061c",
   "display_name": "Python 3.7.5 64-bit"
  }
 },
 "cells": [
  {
   "cell_type": "markdown",
   "execution_count": null,
   "metadata": {},
   "outputs": [],
   "source": [
    "### Connect to Database"
   ]
  },
  {
   "cell_type": "code",
   "execution_count": 1,
   "metadata": {},
   "outputs": [
    {
     "name": "stdout",
     "output_type": "stream",
     "text": "Database opened successfully\n"
    }
   ],
   "source": [
    "import psycopg2\n",
    "\n",
    "con = psycopg2.connect(database=\"prato\", user=\"postgres\", password=\"1218\", host=\"127.0.0.1\", port=\"5432\")\n",
    "\n",
    "print(\"Database opened successfully\")\n",
    "\n",
    "now = 0"
   ]
  },
  {
   "cell_type": "code",
   "execution_count": 3,
   "metadata": {},
   "outputs": [
    {
     "name": "stdout",
     "output_type": "stream",
     "text": "27\nname =  Leo Moda Di Dai Xueting <class 'str'>\n------\nCurrent Length =  124503\nid =  ChIJ2anhQk9fKhMRlG-mlGl6pQc 27\nname =  X & H Service Di Hu Xiaoqiu <class 'str'>\n------\nCurrent Length =  126372\nid =  ChIJ_YVJaE9fKhMRo8mBBB-owOY 27\nname =  He Zhi Yong <class 'str'>\n------\nCurrent Length =  126461\nid =  ChIJOwZocU9fKhMR9qf-2PfcxlE 27\nname =  Yushi Moda <class 'str'>\n------\nCurrent Length =  126541\nid =  ChIJq0rxogxfKhMRvtTzKQI8B60 27\nname =  RISTORANTE XIN HONG SAS di ye xiaoqiu & c <class 'str'>\n------\nCurrent Length =  126587\nid =  ChIJpdHRhE9fKhMR4zI8vqW1t-g 27\nname =  Huang Zhenli <class 'str'>\n------\nCurrent Length =  126655\nid =  ChIJEdxMhE9fKhMRkh8nrMko4Vk 27\nname =  Miss Gioia Fashion Di Chen Shuiyu <class 'str'>\n------\nCurrent Length =  126704\nid =  ChIJSw4JblBfKhMRennCqAs4nMw 27\nname =  Lin Youhong <class 'str'>\n------\nCurrent Length =  126921\nid =  ChIJI6MG2FBfKhMRnlT8JQv4LyI 27\nname =  Ji Xiaojie <class 'str'>\n------\nCurrent Length =  126968\nid =  ChIJqxnoaFdfKhMRKMqCqXxaCz8 27\nname =  Mei Moo <class 'str'>\n------\nCurrent Length =  127129\nid =  ChIJ-1OIbldfKhMR6b1c80VPD4c 27\nname =  Jiang Jianhua <class 'str'>\n------\nCurrent Length =  127206\nid =  ChIJ-1OIbldfKhMRcNLKtau3Pnk 27\nname =  F.Vogue Di Wang Zhengz Huang <class 'str'>\n------\nCurrent Length =  127219\nid =  ChIJp0RxuU9fKhMRtmYVhga-haM 27\nname =  Chen Xianhe <class 'str'>\n------\nCurrent Length =  130428\nid =  ChIJAzDZzE9fKhMRN-LD8IJ0Zos 27\nname =  Xu Xxiumei <class 'str'>\n------\nCurrent Length =  130439\nid =  ChIJP_LZzE9fKhMRmI4UiK5j1ww 27\nname =  E.Li Fashion Di Wu Chunxiang <class 'str'>\n------\nCurrent Length =  130497\nid =  ChIJjbnC3VBfKhMRn-8Ly6UCfrU 27\nname =  Aute Pronto Moda Di Lin Changsheng <class 'str'>\n------\nCurrent Length =  130742\nid =  ChIJOdjGZVdfKhMRgzgYNEV6254 27\nname =  Yifa Di Chen Chunlin <class 'str'>\n------\nCurrent Length =  130976\nid =  ChIJg6b1Z1dfKhMReIuFmZL5_Yo 27\nname =  Pronto Moda X.J. di Lin Zhiyin <class 'str'>\n------\nCurrent Length =  130996\nid =  ChIJOdjGZVdfKhMRmSByeXlrjaM 27\nname =  Eaca Di Zheng Xiu <class 'str'>\n------\nCurrent Length =  131026\nid =  ChIJPdprtk9fKhMRhL_KsSc_jCM 27\nname =  Moda Forever Di Zhuang Fengmei <class 'str'>\n------\nCurrent Length =  133537\nid =  ChIJEeZREef1KhMRn3GFxlZc9sU 27\nname =  Viale Chang Zhou <class 'str'>\n------\nCurrent Length =  134555\nid =  ChIJ1Qdd-05fKhMRmzSg1UUvZ6s 27\nname =  Pronto Moda Z.M. Di Wen Xinxue <class 'str'>\n------\nCurrent Length =  136047\nid =  ChIJVasX501fKhMRKKP79bD3D4g 27\nname =  Pronto Moda Zc Di Zhang Wenlan <class 'str'>\n------\nCurrent Length =  136222\nid =  ChIJt8WDzE9fKhMR50uqzm9Scio 27\nname =  Yi Studio <class 'str'>\n------\nCurrent Length =  136266\nid =  ChIJuXydz1ZfKhMRituUcLR-jeE 27\nname =  Sunny Day Fashion Di Chen Qiaoguang <class 'str'>\n------\nCurrent Length =  136521\nid =  ChIJ4_wK2FBfKhMRBYF5jI8wJRQ 27\nname =  Pronto Moda D.S. Di Qin Meiying <class 'str'>\n------\nCurrent Length =  136633\nid =  ChIJ58ecz1ZfKhMR5cefw304FGo 27\nname =  Hu Xiaofei <class 'str'>\n------\nCurrent Length =  136680\nid =  ChIJ-1OIbldfKhMRVUSJIRjehDo 27\nname =  Qu Jing <class 'str'>\n------\nCurrent Length =  136813\nid =  ChIJJaEeBltfKhMRSfOV_uK9-ko 27\nname =  New Team Di Ni Peishu <class 'str'>\n------\nCurrent Length =  136886\nid =  ChIJiRGg8KX1KhMRWeYhNyJNNv8 27\nname =  KAITAL HERCATONE Di Zhou Jinying <class 'str'>\n------\nCurrent Length =  137436\nid =  ChIJnwEZ5GT1KhMR50DoBN_h3HU 27\nname =  KAITAI MERCATONE Di Zhou Jinying <class 'str'>\n------\nCurrent Length =  137468\nid =  ChIJwUcTFef1KhMRkjTTpcqVUyo 27\nname =  Viale Chang Zhou <class 'str'>\n------\nCurrent Length =  137583\nid =  ChIJu7eRQuf1KhMRdr0ENjOgPi8 27\nname =  Viale Chang Zhou <class 'str'>\n------\nCurrent Length =  137599\nid =  ChIJG2mS5t31KhMRJwxUW7gqzIM 27\nname =  Viale Chang Zhou <class 'str'>\n------\nCurrent Length =  137615\nid =  ChIJXcRDnklfKhMRWH-buuFfWg0 27\nname =  Zheng Guangliang <class 'str'>\n------\nCurrent Length =  139125\nid =  ChIJHWHmqPj1KhMRVNT7AdhR7wg 27\nname =  Lin Lingyun <class 'str'>\n------\nCurrent Length =  139529\nid =  ChIJ5-iuwPj1KhMRVXzvaHr7068 27\nname =  Pronto Moda Jenny Di Ying Yaoyao <class 'str'>\n------\nCurrent Length =  139604\nid =  ChIJn2lOSFtfKhMRYhVlkQCzfWs 27\nname =  Free Fashion Di Xu Haili <class 'str'>\n------\nCurrent Length =  139636\nid =  ChIJiamKW-f1KhMRrz-2ESvNQ0g 27\nname =  Viale Chang Zhou <class 'str'>\n------\nCurrent Length =  140243\nid =  ChIJQTphAt71KhMRKruGOQQ_Umw 27\nname =  Video Bonus Di Liu Bin Sas <class 'str'>\n------\nCurrent Length =  140348\nid =  ChIJrUbX-t31KhMRgYoJnQB2WU4 27\nname =  Viale Chang Zhou <class 'str'>\n------\nCurrent Length =  140555\nid =  ChIJ94iv2N31KhMRekM7dKpEKDk 27\nname =  Viale Chang Zhou <class 'str'>\n------\nCurrent Length =  140591\nid =  ChIJq30tf971KhMRKUUFMOXba9A 27\nname =  Viale Chang Zhou <class 'str'>\n------\nCurrent Length =  140607\nid =  ChIJ2Yo4OkxfKhMR4komuwvoOlY 27\nname =  Ren Yuanqiu <class 'str'>\n------\nCurrent Length =  141621\nid =  ChIJrcukYlFfKhMRHqeO2IQ3DNs 27\nname =  Cao Zhuhua <class 'str'>\n------\nCurrent Length =  141885\nid =  ChIJ1XAK2FNfKhMRj3h_Wu7ERgk 27\nname =  Top Man Di Lin Bao Chao <class 'str'>\n------\nCurrent Length =  141956\nid =  ChIJGyC0s_j1KhMRPqU7c6GrY1k 27\nname =  Lu Guangmei <class 'str'>\n------\nCurrent Length =  142286\nid =  ChIJO0ApNP_1KhMRLUp2-B1N7U0 27\nname =  La Stamperia Di Zhang Desheng <class 'str'>\n------\nCurrent Length =  142391\nid =  ChIJ-V1rskRfKhMRQ-vJnJzUANo 27\nname =  Li Xiang pronto moda <class 'str'>\n------\nCurrent Length =  142571\nid =  ChIJ2Sf1Mfn1KhMR49N2ZlIQUIM 27\nname =  Hu Yongshan <class 'str'>\n------\nCurrent Length =  142608\nid =  ChIJN3xDdvz1KhMRDHuUDgjb208 27\nname =  Tessitura Unite Di Feng Lishuang <class 'str'>\n------\nCurrent Length =  142797\nid =  ChIJ9a53At71KhMRapzsQGfqCHw 27\nname =  Enoteca jing pin <class 'str'>\n------\nCurrent Length =  143688\nid =  ChIJi_I9OkxfKhMRMbK70leex5Y 27\nname =  Pronto Moda Glamour Di Xie Zhongyou <class 'str'>\n------\nCurrent Length =  145394\nid =  ChIJg5xD8VNfKhMRVCI2ko5cpK4 27\nname =  Hope Di Zhu Yan <class 'str'>\n------\nCurrent Length =  145537\nid =  ChIJPdprtk9fKhMRH75hYX7wgRU 27\nname =  Rui Xiang S.r.l. <class 'str'>\n------\nCurrent Length =  145552\nid =  ChIJ4Ylz3lNfKhMRPGeHbuafmqI 27\nname =  Place Kids Moda Di Yang Yisui <class 'str'>\n------\nCurrent Length =  145568\nid =  ChIJg5xD8VNfKhMRj4Q-7rw5Cjg 27\nname =  F.H. Group Di Yu Boading <class 'str'>\n------\nCurrent Length =  145735\nid =  ChIJd9C4L__1KhMRqYC9WecNuEY 27\nname =  Lin Xingdao <class 'str'>\n------\nCurrent Length =  146068\nid =  ChIJhxrz8k1fKhMRqzjYIydsUPc 27\nname =  Otto Tex Di Lin Changsen <class 'str'>\n------\nCurrent Length =  148998\nid =  ChIJUe5ybVJfKhMR_OTNv6xDbGo 27\nname =  Flash Moda Di Huang Chonghe <class 'str'>\n------\nCurrent Length =  149109\nid =  ChIJv0rQCQD2KhMRpWLD4u7OhaA 27\nname =  X.D. Pronto Moda Di Han Chunliu <class 'str'>\n------\nCurrent Length =  149380\nid =  ChIJbbuVXVJfKhMRUx_UogVz164 27\nname =  Neo Image Di Ye Jianxi <class 'str'>\n------\nCurrent Length =  152051\nid =  ChIJuVpQaFJfKhMR9c1QXt3MNSE 27\nname =  A Xiao Pronto Moda Di Yang Jiachun <class 'str'>\n------\nCurrent Length =  152073\nid =  ChIJs70DZVJfKhMRB2NVH-CIzfI 27\nname =  Pronto Moda Luisa Di Yu Jingdi <class 'str'>\n------\nCurrent Length =  152293\nid =  ChIJmeov-lJfKhMR0ke5puGuSAY 27\nname =  M2 Di Jiang Guangrong <class 'str'>\n------\nCurrent Length =  154667\nid =  ChIJlVxh_E5fKhMRZ_0Ew6UQMmM 27\nname =  Pan Jing <class 'str'>\n------\nCurrent Length =  155015\nid =  ChIJoTFVBVNfKhMRMwRTUy1BHcY 27\nname =  Ristorante Xin Dou <class 'str'>\n------\nCurrent Length =  155114\nid =  ChIJ4ZWfJdb1KhMRoprCGMe9vMQ 27\nname =  Biancheria Di Cristina Di Yang Xiao Wu <class 'str'>\n------\nCurrent Length =  160213\nid =  ChIJzWpdOFNfKhMRbSSP9U0rPSk 27\nname =  Mei Yunhao <class 'str'>\n------\nCurrent Length =  161604\nid =  ChIJzWpdOFNfKhMRD5N7gTlBV9w 27\nname =  Stamperia Wanda Di Qiu Chuapeng <class 'str'>\n------\nCurrent Length =  161627\nid =  ChIJnbVsU1VfKhMRm238INZPmfo 27\nname =  Spice Fashion Di Fang Rensheng <class 'str'>\n------\nCurrent Length =  161728\nid =  ChIJd5HitU9fKhMRFL1UEI889TU 27\nname =  Pronto Moda Teresa Di Jiang Jinyun <class 'str'>\n------\nCurrent Length =  161780\nid =  ChIJTQK_-f_1KhMR0CSyG3jKYCw 27\nname =  Chi Lanxiang <class 'str'>\n------\nCurrent Length =  161814\nid =  ChIJmbMY4__1KhMRWOBTLH65af0 27\nname =  He Fenglei <class 'str'>\n------\nCurrent Length =  161968\nid =  ChIJo1EX4v_1KhMRjcbN6lauSmM 27\nname =  Xcs Di Zhemg Chunwei <class 'str'>\n------\nCurrent Length =  161978\nid =  ChIJl35RJ-D1KhMRdugCyZ_Hj98 27\nname =  Confezione Zeng Qingxiang Individuale <class 'str'>\n------\nCurrent Length =  163328\nid =  ChIJAZxJ1Nf1KhMRekGermXIXmo 27\nname =  Confezione Zhou Yongqing <class 'str'>\n------\nCurrent Length =  165322\nid =  ChIJd5HitU9fKhMRqdjugZTTMh8 27\nname =  Lian Tong Di Lu Zhenteng <class 'str'>\n------\nCurrent Length =  166472\nid =  ChIJW6eqSHX2KhMREx4a7N9owp4 27\nname =  D.D Tex Di Wang Shibo <class 'str'>\n------\nCurrent Length =  168395\nid =  ChIJJadlfcpYKhMRXInCk2HDJDE 27\nname =  Uniflorido Tex Di Wang Xingchi <class 'str'>\n------\nCurrent Length =  176189\nid =  ChIJK4dosHn2KhMR9TT__v9Ku2w 27\nname =  Supermercato Rong Cheng Chao Shi <class 'str'>\n------\nCurrent Length =  179922\nid =  ChIJG607QrNYKhMRB0_VTEvHxKA 27\nname =  G.c.h. Di Wu Weizhen <class 'str'>\n------\nCurrent Length =  180953\nid =  ChIJp92HTapYKhMRQwTwa3Cchts 27\nname =  Hermes Jersey Di Jiang Qiyou <class 'str'>\n------\nCurrent Length =  181027\nid =  ChIJXws6LAv2KhMR5q-p1zKe-3M 27\nname =  Toscana Infissi Di Zhang Xiuxiang <class 'str'>\n------\nCurrent Length =  181952\nid =  ChIJD5JwUHf2KhMRtEwS_eUiROM 27\nname =  Chen Aizhong <class 'str'>\n------\nCurrent Length =  186189\nid =  ChIJKUwWeq5YKhMRsOHtS4FxA0o 27\nname =  Maglificio Shirley Di Cai Fengmei <class 'str'>\n------\nCurrent Length =  191170\nid =  ChIJtcg6BXr2KhMRyG6QRQ7d1Es 27\nname =  Ristorante Bai Li Xian <class 'str'>\n------\nCurrent Length =  192506\nid =  ChIJoxKuea5YKhMR7CclmW6O70U 27\nname =  M&B Di Liu Bing <class 'str'>\n------\nCurrent Length =  193720\nid =  ChIJfezCmVz3KhMR3atFdUnSAy0 27\nname =  Rosticceria Jian Bing Xia <class 'str'>\n------\nCurrent Length =  195533\nid =  ChIJsXG_inD2KhMRP07f_yE7mxs 27\nname =  Lin Xiao <class 'str'>\n------\nCurrent Length =  198644\nid =  ChIJeWMSKq5YKhMRNu9DJPxF_X8 27\nname =  Stireria Paolo Di Zheng Changguan <class 'str'>\n------\nCurrent Length =  203466\nid =  ChIJbVC0nnr2KhMRERIidagdVAQ 27\nname =  B&B Hao Xi Hao <class 'str'>\n------\nCurrent Length =  206059\nid =  ChIJl9UlGHD2KhMRzK5VqkKeVOM 27\nname =  Pasticceria Kuai Lu <class 'str'>\n------\nCurrent Length =  209446\nid =  ChIJDZtfBnD2KhMRPcjSHAEYTxA 27\nname =  Xu Guozhong <class 'str'>\n------\nCurrent Length =  209681\nid =  ChIJzTaPAob2KhMR5U-eKNNZR4s 27\nname =  Suzhou Wuzhong Chemical Fiber Co.,Ltd. <class 'str'>\n------\nCurrent Length =  210448\nid =  ChIJZ_MM22_2KhMRxBSx4BVKbnk 27\nname =  Yi Xian Tian <class 'str'>\n------\nCurrent Length =  212924\nid =  ChIJfxeLEa31KhMR8yTlTQFjO1E 27\nname =  Jin Yan S.N.C. di Hu Yunshe & C. <class 'str'>\n------\nCurrent Length =  212968\nid =  ChIJCc7DyW_2KhMR75gAQRgqvn8 27\nname =  Zheng Gen <class 'str'>\n------\nCurrent Length =  217198\nid =  ChIJT-iDoxz2KhMRE84MSAleAjQ 27\nname =  Ristorante Long Feng Sas Di Sheng Liansong <class 'str'>\n------\nCurrent Length =  220566\nid =  ChIJW1lstm32KhMRyFHMLJT4ySY 27\nname =  Studio Robbi Sas Di Zhong Rongchang <class 'str'>\n------\nCurrent Length =  221710\nid =  ChIJU2q2Rm72KhMRWzVPdh2Qob4 27\nname =  Yili Abbigliamento Di Wang Daochuan <class 'str'>\n------\nCurrent Length =  221912\nid =  ChIJ3YQht2_2KhMRDQAf-dCj8xE 27\nname =  Ristorante Wu Mei <class 'str'>\n------\nCurrent Length =  222003\nid =  ChIJV-YlvW_2KhMR22AhAfeWC5c 27\nname =  Ding Hao <class 'str'>\n------\nCurrent Length =  222396\nid =  ChIJUwX7ShL2KhMRgOl9EhaGVPI 27\nname =  Heng Tong Di Jin Yinming <class 'str'>\n------\nCurrent Length =  225720\nid =  ChIJD5m3Am32KhMRsBFEilvWMao 27\nname =  L2di Zhengliang Lin <class 'str'>\n------\nCurrent Length =  225801\nid =  ChIJ1_dDKmz2KhMRavMDQTCCKlI 27\nname =  Pasticceria Hua Tian Xi Pu <class 'str'>\n------\nCurrent Length =  226157\nid =  ChIJk2nFgG72KhMRkp-wLfDNj18 27\nname =  Dong Fang Arredamenti <class 'str'>\n------\nCurrent Length =  226195\nid =  ChIJ4ZoLDm_2KhMRqJPNGSdjjOA 27\nname =  Studio Rise Wing Di Huang Manfeng <class 'str'>\n------\nCurrent Length =  226975\nid =  ChIJQf1fmW72KhMR18UeV5LzvXg 27\nname =  Jin Jiang Ristorante <class 'str'>\n------\nCurrent Length =  230885\nid =  ChIJgUG_5G72KhMRCHci5ds9StU 27\nname =  Telefonia Jin Cheng <class 'str'>\n------\nCurrent Length =  231104\nid =  ChIJyfuE_G72KhMRZn7uBixVLwo 27\nname =  Qi Fei Agenzia Di Jiang Jinhe <class 'str'>\n------\nCurrent Length =  231123\nid =  ChIJjSlr5m72KhMRpBk5fGGOg6w 27\nname =  Jiamei Fast Food Di Chen Jianzhong <class 'str'>\n------\nCurrent Length =  231173\nid =  ChIJd6ST_G72KhMRJmIsr0C2jSw 27\nname =  Ristorante Wen Zhou <class 'str'>\n------\nCurrent Length =  231207\nid =  ChIJI50q5m72KhMRkhpYMWTB_GU 27\nname =  Carrozzeria Hongxin Di Dong Wenguo <class 'str'>\n------\nCurrent Length =  231265\nid =  ChIJu3AC5272KhMRdFAasXi9yTo 27\nname =  Ruilong Di Zhao Hailong <class 'str'>\n------\nCurrent Length =  231350\nid =  ChIJbYgH_W72KhMRtgBLV8BiXDA 27\nname =  Ristorante Xinchanglai <class 'str'>\n------\nCurrent Length =  231373\nid =  ChIJbx4lDm_2KhMR8oeMuHllW1w 27\nname =  Pasticceria Jin Lu Di Chen Qi <class 'str'>\n------\nCurrent Length =  231449\nid =  ChIJM6KZ4XH2KhMR7hVovQOpMTM 27\nname =  Pasticceria Jin Lu Di Chen Qi <class 'str'>\n------\nCurrent Length =  231491\nid =  ChIJj2vhwm72KhMRKK0bB--J1_k 27\nname =  Pescheria Jiale <class 'str'>\n------\nCurrent Length =  235214\nid =  ChIJa3GSEa31KhMRSqni5yr5vac 27\nname =  Ke Ji Dian Nao Shou Ji Dian Di Dai Changxing <class 'str'>\n------\nCurrent Length =  235421\nid =  ChIJW3Sswm72KhMRZrGeuy0k2f0 27\nname =  Citta' D'Oro Di Yu Chen Yu <class 'str'>\n------\nCurrent Length =  235511\nid =  ChIJ26Om4G72KhMRHA4fBWpmQWM 27\nname =  XIAO LIN MARKET <class 'str'>\n------\nCurrent Length =  235585\nid =  ChIJ9YAD1Wj2KhMRswlKBdu8QSA 27\nname =  Jin Xin Di Zhou Cailing <class 'str'>\n------\nCurrent Length =  235745\nid =  ChIJx9pWOW_2KhMR5BVOjQkz9NU 27\nname =  xinwanshihao mobili <class 'str'>\n------\nCurrent Length =  235775\nid =  ChIJcUY45mP2KhMRodxxHxNP7OU 27\nname =  Rosticceria Bai Wei <class 'str'>\n------\nCurrent Length =  236381\nid =  ChIJG3DG1IX3KhMRRxV3P16Lqfo 27\nname =  Shan Yunhai <class 'str'>\n------\nCurrent Length =  240350\nid =  ChIJnbHNym72KhMRlXBgtder-Hw 27\nname =  Il Telaio Zhang Xiang Ding <class 'str'>\n------\nCurrent Length =  240361\nid =  ChIJjcQZNWn2KhMR9nZCYPci5n4 27\nname =  Kangnai <class 'str'>\n------\nCurrent Length =  240468\nid =  ChIJBy-iNWn2KhMR8T1gp3We4RE 27\nname =  Jia Fangliang <class 'str'>\n------\nCurrent Length =  240478\nid =  ChIJvWzbMAVZKhMRIpSpmtP_en0 27\nname =  Century Tex di Mu Naiying <class 'str'>\n------\nCurrent Length =  243239\nid =  ChIJ6xyEz21ZKhMRN0aYIBgtz60 27\nname =  Century Tex di Mu Naiying <class 'str'>\n------\nCurrent Length =  243264\nid =  ChIJ7RQsthb2KhMRLoPQb2xgRsM 27\nname =  Parafarmacia Zhonghua Srl <class 'str'>\n------\nCurrent Length =  244601\nid =  ChIJ1wVT-mv2KhMRu3iE8QMTQuw 27\nname =  Angelo Di Huang Yue He <class 'str'>\n------\nCurrent Length =  245535\nid =  ChIJTeToSWn2KhMRgwAfBIUXICo 27\nname =  MAI JIE Telefonia <class 'str'>\n------\nCurrent Length =  245705\nid =  ChIJdYawQ2n2KhMRTZ7nQNb8Ilo 27\nname =  Parrucchiera Zhen Zhen <class 'str'>\n------\nCurrent Length =  251072\nid =  ChIJaSagmaBYKhMRYYKzXC5uPvg 27\nname =  Nihao Tex Di Wang Xiumei <class 'str'>\n------\nCurrent Length =  253593\nid =  ChIJwwijBWn2KhMRNl5k2j8DD9A 27\nname =  Zhang Zhengyu <class 'str'>\n------\nCurrent Length =  256222\nid =  ChIJr2aOxFX3KhMRRANyiPJDQOo 27\nname =  Express Chengyi <class 'str'>\n------\nCurrent Length =  256244\nid =  ChIJnSPxKmb2KhMRQDDL7GKNsvc 27\nname =  Hua Long <class 'str'>\n------\nCurrent Length =  256562\nid =  ChIJ9XQR86BYKhMRiyVH2TGtI14 27\nname =  Damasco Di Wu Baojin <class 'str'>\n------\nCurrent Length =  259507\nid =  ChIJdY57Jmr2KhMR5DJZ3VSUrVo 27\nname =  Xing Yuan Immobiliare <class 'str'>\n------\nCurrent Length =  262829\nid =  ChIJXZdFDGj2KhMRiuo8eMNVcqY 27\nname =  Kai Yue Di Huang Qingshou Sas <class 'str'>\n------\nCurrent Length =  270889\nid =  ChIJkwUed132KhMRkfjQBU2K3d0 27\nname =  Campanella sunzhixiang <class 'str'>\n------\nCurrent Length =  288894\nid =  ChIJIXgj4z32KhMRMfb8AWXfAEE 27\nname =  MENGDI ITALIA SRL <class 'str'>\n------\nCurrent Length =  292530\nid =  ChIJSTzcPihfKhMRqTbbqpUA8_M 27\nname =  GUOJIA DESIGN STUDIO <class 'str'>\n------\nCurrent Length =  295533\nid =  ChIJ8a3Cm5dYKhMR3MNOSmaMZ5I 27\nname =  Stamperia Millenium Di Xu Xiaozhen <class 'str'>\n------\nCurrent Length =  319877\nid =  ChIJE4T-I5hYKhMR3KrOFDWeqFc 27\nname =  Ht Di Gao Manling <class 'str'>\n------\nCurrent Length =  319911\nid =  ChIJb3VYG0H2KhMRGP8SjxGgy8o 27\nname =  Le Bigonge <class 'str'>\n------\nCurrent Length =  325077\nid =  ChIJU5yQ85ZYKhMRZ7kDB4O0cfQ 27\nname =  Chen Xiuying <class 'str'>\n------\nCurrent Length =  331261\nid =  ChIJsYMcI5lYKhMRrBSw7VzSHH4 27\nname =  Fashion Tex Di Liu Yicai <class 'str'>\n------\nCurrent Length =  331485\nid =  ChIJ2-ObvZZYKhMRBn9NiArl-Ew 27\nname =  Li Ling Ling <class 'str'>\n------\nCurrent Length =  340634\nid =  ChIJYWjTNJlYKhMRvaymFBXrnuA 27\nname =  Willtex Di Wang Guoyin <class 'str'>\n------\nCurrent Length =  340740\nid =  ChIJCUfRhUP2KhMRF0mupAhWdlw 27\nname =  Zhu Chunping Mania <class 'str'>\n------\nCurrent Length =  347674\nid =  ChIJ8Rlk-JpYKhMRm2xEW5zVU6s 27\nname =  R.S. di zhangxuechai <class 'str'>\n------\nCurrent Length =  350855\nid =  ChIJG6Zw0zj2KhMRBLsQLP1UyYA 27\nname =  Circolo Yi Hao Gong Guan <class 'str'>\n------\nCurrent Length =  353226\nid =  ChIJj77VAkT2KhMRGut1CaP72iw 27\nname =  Rosticceria Lin Xin <class 'str'>\n------\nCurrent Length =  356282\nid =  ChIJiQqhupBYKhMRkrZoYHbG6wU 27\nname =  J.D.L. Di Su Xiaozhen <class 'str'>\n------\nCurrent Length =  359564\nid =  ChIJ-1OIbldfKhMRvpLrCC9zZyo 27\nname =  Biancheria Di Cristina Di Yang Xiao Wu <class 'str'>\n------\nCurrent Length =  377924\nid =  ChIJ7yeCD2n2KhMR002Fxs78eKU 27\nname =  Huang Marco <class 'str'>\n------\nCurrent Length =  382426\nid =  ChIJf2B0pln2KhMRTRrmnpgIFQY 27\nname =  Mei Alessandro <class 'str'>\n------\nCurrent Length =  384154\nid =  ChIJeTspi0f2KhMRzSeklwIJMco 27\nname =  Mania Di Zhu Chunping <class 'str'>\n------\nCurrent Length =  389019\nid =  ChIJoX2tS0b2KhMRsa0PxvVDtgA 27\nname =  Sushi Yi Prato <class 'str'>\n------\nCurrent Length =  390254\nid =  ChIJ9d_s-7RZKhMR2z4G6sbWI6A 27\nname =  X.M. di ZhuAili <class 'str'>\n------\nCurrent Length =  392190\nid =  ChIJUT3T65pYKhMR-9lPrHLe8Dw 27\nname =  Emme Filati Di Ji Shihu <class 'str'>\n------\nCurrent Length =  399491\nid =  ChIJa50Q7Sf2KhMRePLxEFpz9XE 27\nname =  Quality Control Di Xia Risheng <class 'str'>\n------\nCurrent Length =  399717\nid =  ChIJUahxle1YKhMR0-gfPkpDNmo 27\nname =  S.S Imp-Exsp Di Zhou Jianjing <class 'str'>\n------\nCurrent Length =  406970\nid =  ChIJZ_3Hlu1YKhMRHIhNGgvIPNc 27\nname =  G.c.h. Di Wu Weizhen <class 'str'>\n------\nCurrent Length =  406999\nid =  ChIJwdYjbe1YKhMRE3CrIx0PH5E 27\nname =  Stamperia Fantasy Di Jin Xiangyin <class 'str'>\n------\nCurrent Length =  407019\nid =  ChIJ-QyxsZpYKhMRG8yTuTIQBhU 27\nname =  90 Per Cento Di Hu Wenmei <class 'str'>\n------\nCurrent Length =  407501\nid =  ChIJk-s8nfJYKhMRZjFz5rE0Uek 27\nname =  C.L. Di Zhou Jinwei <class 'str'>\n------\nCurrent Length =  414040\nid =  ChIJG_pTFEn2KhMR4RpNXv-4xSA 27\nname =  Weili S.r.l. <class 'str'>\n------\nCurrent Length =  430061\nid =  ChIJxYriOYRYKhMR1P_ToGC-Z3A 27\nname =  Igea Group Sas Di Lu Wangmei E C <class 'str'>\n------\nCurrent Length =  452238\nid =  ChIJxafvIoRYKhMRfkxRtPqAvvw 27\nname =  Pronto Moda Lina Di Yang Xiangjun <class 'str'>\n------\nCurrent Length =  469019\nid =  ChIJa-KK_5n3KhMRoQkN6rvbnQA 27\nname =  Brazilian Jiu Jitsu Prato <class 'str'>\n------\nCurrent Length =  485698\nid =  ChIJEZ4hxXBYKhMRD8IxZzFrFrY 27\nname =  Lin'S Di Wu Yuyan <class 'str'>\n------\nCurrent Length =  502363\nid =  ChIJL3JUjw5YKhMRditaaO6D_Bk 27\nname =  Liu Jo <class 'str'>\n------\nCurrent Length =  512509\ncnt =  23392\nnow =  23392\n"
    },
    {
     "ename": "NameError",
     "evalue": "name 'conn' is not defined",
     "output_type": "error",
     "traceback": [
      "\u001b[1;31m---------------------------------------------------------------------------\u001b[0m",
      "\u001b[1;31mNameError\u001b[0m                                 Traceback (most recent call last)",
      "\u001b[1;32m<ipython-input-3-21e67efd7b85>\u001b[0m in \u001b[0;36m<module>\u001b[1;34m\u001b[0m\n\u001b[0;32m     35\u001b[0m \u001b[0mprint\u001b[0m\u001b[1;33m(\u001b[0m\u001b[1;34m\"cnt = \"\u001b[0m\u001b[1;33m,\u001b[0m \u001b[0mcnt\u001b[0m\u001b[1;33m)\u001b[0m\u001b[1;33m\u001b[0m\u001b[1;33m\u001b[0m\u001b[0m\n\u001b[0;32m     36\u001b[0m \u001b[0mprint\u001b[0m\u001b[1;33m(\u001b[0m\u001b[1;34m\"now = \"\u001b[0m\u001b[1;33m,\u001b[0m \u001b[0mnow\u001b[0m\u001b[1;33m)\u001b[0m\u001b[1;33m\u001b[0m\u001b[1;33m\u001b[0m\u001b[0m\n\u001b[1;32m---> 37\u001b[1;33m \u001b[0mconn\u001b[0m\u001b[1;33m.\u001b[0m\u001b[0mcommit\u001b[0m\u001b[1;33m(\u001b[0m\u001b[1;33m)\u001b[0m\u001b[1;33m\u001b[0m\u001b[1;33m\u001b[0m\u001b[0m\n\u001b[0m\u001b[0;32m     38\u001b[0m \u001b[0mcur\u001b[0m\u001b[1;33m.\u001b[0m\u001b[0mclose\u001b[0m\u001b[1;33m(\u001b[0m\u001b[1;33m)\u001b[0m\u001b[1;33m\u001b[0m\u001b[1;33m\u001b[0m\u001b[0m\n\u001b[0;32m     39\u001b[0m \u001b[0mconn\u001b[0m\u001b[1;33m.\u001b[0m\u001b[0mclose\u001b[0m\u001b[1;33m(\u001b[0m\u001b[1;33m)\u001b[0m\u001b[1;33m\u001b[0m\u001b[1;33m\u001b[0m\u001b[0m\n",
      "\u001b[1;31mNameError\u001b[0m: name 'conn' is not defined"
     ]
    }
   ],
   "source": [
    "cur = con.cursor()\n",
    "cur.execute(\"select * from function where is_chinese = false\")\n",
    "rows = cur.fetchall()\n",
    "\n",
    "from google.cloud import translate_v2 as translate\n",
    "translate_client = translate.Client()\n",
    "\n",
    "cnt = 0\n",
    "length = 0\n",
    "q = []\n",
    "for row in rows:\n",
    "    cnt += 1\n",
    "    if(cnt > now):\n",
    "        now = cnt\n",
    "    if(cnt < now):\n",
    "        continue\n",
    "    \n",
    "    name = row[6].strip()\n",
    "    placeid = row[0].strip()\n",
    "\n",
    "    result = translate_client.detect_language(name)\n",
    "    if(('zh' in result['language'])):\n",
    "        print(\"id = \", row[0].strip(), len(row[0].strip()))\n",
    "        print(\"name = \", row[6].strip(), type(row[6]))\n",
    "        print(\"------\")\n",
    "        placeid = placeid.ljust(255, ' ')\n",
    "        print(\"Current Length = \", length)\n",
    "        cur = con.cursor()\n",
    "        cur.execute(\"Update function set is_Chinese = True where placeid = \\'{}\\'\".format(placeid))\n",
    "        q.append(row)\n",
    "\n",
    "    length += len(name)\n",
    "\n",
    "\n",
    "print(\"cnt = \", cnt)\n",
    "print(\"now = \", now)\n",
    "con.commit()\n",
    "cur.close()\n",
    "con.close()"
   ]
  },
  {
   "cell_type": "code",
   "execution_count": 4,
   "metadata": {},
   "outputs": [
    {
     "name": "stdout",
     "output_type": "stream",
     "text": "ms\n"
    }
   ],
   "source": [
    "import langid\n",
    "\n",
    "s1 = \"nihao\"\n",
    "\n",
    "arr = langid.classify(s1)\n",
    "print(arr[0])\n"
   ]
  },
  {
   "cell_type": "code",
   "execution_count": 8,
   "metadata": {},
   "outputs": [
    {
     "name": "stdout",
     "output_type": "stream",
     "text": "Text: Drago D'Oro Di Huang Xinxin E C. Sas\nConfidence: 0.74094557762146\nLanguage: zh-CN\nzh\n"
    }
   ],
   "source": [
    "from google.cloud import translate_v2 as translate\n",
    "translate_client = translate.Client()\n",
    "\n",
    "text = \"Drago D'Oro Di Huang Xinxin E C. Sas\"\n",
    "result = translate_client.detect_language(text)\n",
    "\n",
    "print('Text: {}'.format(text))\n",
    "print('Confidence: {}'.format(result['confidence']))\n",
    "print('Language: {}'.format(result['language']))\n",
    "\n",
    "if(('zh' in result['language'])):\n",
    "    print(\"zh\")"
   ]
  },
  {
   "cell_type": "code",
   "execution_count": 0,
   "metadata": {},
   "outputs": [],
   "source": [
    "def implicit():\n",
    "    from google.cloud import storage\n",
    "\n",
    "    # If you don't specify credentials when constructing the client, the\n",
    "    # client library will look for credentials in the environment.\n",
    "    storage_client = storage.Client()\n",
    "\n",
    "    # Make an authenticated API request\n",
    "    buckets = list(storage_client.list_buckets())\n",
    "    print(buckets)"
   ]
  },
  {
   "cell_type": "code",
   "execution_count": 13,
   "metadata": {},
   "outputs": [
    {
     "data": {
      "text/plain": "'sw'"
     },
     "execution_count": 13,
     "metadata": {},
     "output_type": "execute_result"
    }
   ],
   "source": [
    "from langdetect import detect\n",
    "detect('nihao')"
   ]
  },
  {
   "cell_type": "code",
   "execution_count": 3,
   "metadata": {},
   "outputs": [
    {
     "name": "stdout",
     "output_type": "stream",
     "text": "23925\n"
    }
   ],
   "source": [
    "cur = con.cursor()\n",
    "cur.execute(\"select * from function\")\n",
    "rows = cur.fetchall()\n",
    "\n",
    "print(len(rows))"
   ]
  },
  {
   "cell_type": "code",
   "execution_count": 7,
   "metadata": {},
   "outputs": [
    {
     "name": "stdout",
     "output_type": "stream",
     "text": "ChIJ8asZE2n2KhMRgL1H0eJoBsY                                                                                                                                                                                                                                    \nid =  ChIJ8asZE2n2KhMRgL1H0eJoBsY\nname =  Drago D'Oro Di Huang Xinxin E C. Sas\nis_Chinese True\n1\n"
    }
   ],
   "source": [
    "cur = con.cursor()\n",
    "placeid = \"ChIJ8asZE2n2KhMRgL1H0eJoBsY\"\n",
    "placeid = placeid.ljust(255, ' ')\n",
    "print(placeid)\n",
    "cur.execute(\"select * from function where placeid = \\'{}\\'\".format(placeid))\n",
    "rows = cur.fetchall()\n",
    "\n",
    "tot = 0\n",
    "for row in rows:\n",
    "    tot += 1\n",
    "    print(\"id = \", row[0].strip())\n",
    "    print(\"name = \", row[6].strip())\n",
    "    print(\"is_Chinese\", row[5])\n",
    "\n",
    "print(tot)\n",
    "con.commit()\n",
    "cur.close()\n",
    "con.close()"
   ]
  },
  {
   "cell_type": "code",
   "execution_count": null,
   "metadata": {},
   "outputs": [],
   "source": []
  }
 ]
}