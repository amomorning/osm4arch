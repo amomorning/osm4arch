{
 "nbformat": 4,
 "nbformat_minor": 2,
 "metadata": {
  "language_info": {
   "name": "python",
   "codemirror_mode": {
    "name": "ipython",
    "version": 3
   },
   "version": "3.7.5"
  },
  "orig_nbformat": 2,
  "file_extension": ".py",
  "mimetype": "text/x-python",
  "name": "python",
  "npconvert_exporter": "python",
  "pygments_lexer": "ipython3",
  "version": 3
 },
 "cells": [
  {
   "cell_type": "markdown",
   "execution_count": null,
   "metadata": {},
   "outputs": [],
   "source": [
    "### Connect to Database"
   ]
  },
  {
   "cell_type": "code",
   "execution_count": 1,
   "metadata": {},
   "outputs": [
    {
     "name": "stdout",
     "output_type": "stream",
     "text": "Database opened successfully\n"
    }
   ],
   "source": [
    "import psycopg2\n",
    "\n",
    "con = psycopg2.connect(database=\"prato\", user=\"postgres\", password=\"1218\", host=\"127.0.0.1\", port=\"5432\")\n",
    "\n",
    "print(\"Database opened successfully\")"
   ]
  },
  {
   "cell_type": "code",
   "execution_count": 3,
   "metadata": {},
   "outputs": [],
   "source": [
    "now = 10"
   ]
  },
  {
   "cell_type": "code",
   "execution_count": null,
   "metadata": {},
   "outputs": [],
   "source": []
  },
  {
   "cell_type": "code",
   "execution_count": 7,
   "metadata": {},
   "outputs": [
    {
     "name": "stdout",
     "output_type": "stream",
     "text": "jGZVdfKhMRgzgYNEV6254 27\nlen =  255\nname =  Yifa Di Chen Chunlin <class 'str'>\n------\nCurrent Length =  130488\nid =  ChIJg6b1Z1dfKhMReIuFmZL5_Yo 27\nlen =  255\nname =  Pronto Moda X.J. di Lin Zhiyin <class 'str'>\n------\nCurrent Length =  130508\nid =  ChIJOdjGZVdfKhMRmSByeXlrjaM 27\nlen =  255\nname =  Eaca Di Zheng Xiu <class 'str'>\n------\nCurrent Length =  130538\nid =  ChIJPdprtk9fKhMRhL_KsSc_jCM 27\nlen =  255\nname =  Moda Forever Di Zhuang Fengmei <class 'str'>\n------\nCurrent Length =  133049\nid =  ChIJEeZREef1KhMRn3GFxlZc9sU 27\nlen =  255\nname =  Viale Chang Zhou <class 'str'>\n------\nCurrent Length =  134067\nid =  ChIJ1Qdd-05fKhMRmzSg1UUvZ6s 27\nlen =  255\nname =  Pronto Moda Z.M. Di Wen Xinxue <class 'str'>\n------\nCurrent Length =  135559\nid =  ChIJVasX501fKhMRKKP79bD3D4g 27\nlen =  255\nname =  Pronto Moda Zc Di Zhang Wenlan <class 'str'>\n------\nCurrent Length =  135734\nid =  ChIJt8WDzE9fKhMR50uqzm9Scio 27\nlen =  255\nname =  Yi Studio <class 'str'>\n------\nCurrent Length =  135778\nid =  ChIJuXydz1ZfKhMRituUcLR-jeE 27\nlen =  255\nname =  Sunny Day Fashion Di Chen Qiaoguang <class 'str'>\n------\nCurrent Length =  136033\nid =  ChIJ4_wK2FBfKhMRBYF5jI8wJRQ 27\nlen =  255\nname =  Pronto Moda D.S. Di Qin Meiying <class 'str'>\n------\nCurrent Length =  136145\nid =  ChIJ58ecz1ZfKhMR5cefw304FGo 27\nlen =  255\nname =  Hu Xiaofei <class 'str'>\n------\nCurrent Length =  136192\nid =  ChIJ-1OIbldfKhMRVUSJIRjehDo 27\nlen =  255\nname =  Qu Jing <class 'str'>\n------\nCurrent Length =  136325\nid =  ChIJJaEeBltfKhMRSfOV_uK9-ko 27\nlen =  255\nname =  New Team Di Ni Peishu <class 'str'>\n------\nCurrent Length =  136398\nid =  ChIJiRGg8KX1KhMRWeYhNyJNNv8 27\nlen =  255\nname =  KAITAL HERCATONE Di Zhou Jinying <class 'str'>\n------\nCurrent Length =  136948\nid =  ChIJnwEZ5GT1KhMR50DoBN_h3HU 27\nlen =  255\nname =  KAITAI MERCATONE Di Zhou Jinying <class 'str'>\n------\nCurrent Length =  136980\nid =  ChIJwUcTFef1KhMRkjTTpcqVUyo 27\nlen =  255\nname =  Viale Chang Zhou <class 'str'>\n------\nCurrent Length =  137095\nid =  ChIJu7eRQuf1KhMRdr0ENjOgPi8 27\nlen =  255\nname =  Viale Chang Zhou <class 'str'>\n------\nCurrent Length =  137111\nid =  ChIJG2mS5t31KhMRJwxUW7gqzIM 27\nlen =  255\nname =  Viale Chang Zhou <class 'str'>\n------\nCurrent Length =  137127\nid =  ChIJXcRDnklfKhMRWH-buuFfWg0 27\nlen =  255\nname =  Zheng Guangliang <class 'str'>\n------\nCurrent Length =  138637\nid =  ChIJHWHmqPj1KhMRVNT7AdhR7wg 27\nlen =  255\nname =  Lin Lingyun <class 'str'>\n------\nCurrent Length =  139041\nid =  ChIJ5-iuwPj1KhMRVXzvaHr7068 27\nlen =  255\nname =  Pronto Moda Jenny Di Ying Yaoyao <class 'str'>\n------\nCurrent Length =  139116\nid =  ChIJn2lOSFtfKhMRYhVlkQCzfWs 27\nlen =  255\nname = Free Fashion Di Xu Haili <class 'str'>\n------\nCurrent Length =  139148\nid =  ChIJiamKW-f1KhMRrz-2ESvNQ0g 27\nlen =  255\nname =  Viale Chang Zhou <class 'str'>\n------\nCurrent Length =  139755\nid =  ChIJQTphAt71KhMRKruGOQQ_Umw 27\nlen =  255\nname =  Video Bonus Di Liu Bin Sas <class 'str'>\n------\nCurrent Length =  139860\nid =  ChIJrUbX-t31KhMRgYoJnQB2WU4 27\nlen =  255\nname =  Viale Chang Zhou <class 'str'>\n------\nCurrent Length =  140067\nid =  ChIJ94iv2N31KhMRekM7dKpEKDk 27\nlen =  255\nname =  Viale Chang Zhou <class 'str'>\n------\nCurrent Length =  140103\nid =  ChIJq30tf971KhMRKUUFMOXba9A 27\nlen =  255\nname =  Viale Chang Zhou <class 'str'>\n------\nCurrent Length =  140119\nid =  ChIJ2Yo4OkxfKhMR4komuwvoOlY 27\nlen =  255\nname =  Ren Yuanqiu <class 'str'>\n------\nCurrent Length =  141133\nid =  ChIJrcukYlFfKhMRHqeO2IQ3DNs 27\nlen =  255\nname =  Cao Zhuhua <class 'str'>\n------\nCurrent Length =  141397\nid =  ChIJ1XAK2FNfKhMRj3h_Wu7ERgk 27\nlen =  255\nname =  Top Man Di Lin Bao Chao <class 'str'>\n------\nCurrent Length =  141468\nid =  ChIJGyC0s_j1KhMRPqU7c6GrY1k 27\nlen =  255\nname =  Lu Guangmei <class 'str'>\n------\nCurrent Length =  141798\nid =  ChIJO0ApNP_1KhMRLUp2-B1N7U0 27\nlen =  255\nname =  La Stamperia Di Zhang Desheng <class 'str'>\n------\nCurrent Length =  141903\nid =  ChIJ-V1rskRfKhMRQ-vJnJzUANo 27\nlen =  255\nname =  Li Xiang pronto moda <class 'str'>\n------\nCurrent Length =  142083\nid =  ChIJ2Sf1Mfn1KhMR49N2ZlIQUIM 27\nlen =  255\nname =  Hu Yongshan <class 'str'>\n------\nCurrent Length =  142120\nid =  ChIJN3xDdvz1KhMRDHuUDgjb208 27\nlen =  255\nname =  Tessitura Unite Di Feng Lishuang <class 'str'>\n------\nCurrent Length =  142309\nid =  ChIJ9a53At71KhMRapzsQGfqCHw 27\nlen =  255\nname =  Enoteca jing pin <class 'str'>\n------\nCurrent Length =  143200\nid =  ChIJi_I9OkxfKhMRMbK70leex5Y 27\nlen =  255\nname =  Pronto Moda Glamour Di Xie Zhongyou <class 'str'>\n------\nCurrent Length =  144906\nid =  ChIJg5xD8VNfKhMRVCI2ko5cpK4 27\nlen =  255\nname =  Hope Di Zhu Yan <class 'str'>\n------\nCurrent Length =  145049\nid =  ChIJPdprtk9fKhMRH75hYX7wgRU 27\nlen =  255\nname =  Rui Xiang S.r.l. <class 'str'>\n------\nCurrent Length =  145064\nid =  ChIJ4Ylz3lNfKhMRPGeHbuafmqI 27\nlen =  255\nname =  Place Kids Moda Di Yang Yisui <class 'str'>\n------\nCurrent Length =  145080\nid =  ChIJg5xD8VNfKhMRj4Q-7rw5Cjg 27\nlen =  255\nname =  F.H. Group Di Yu Boading <class 'str'>\n------\nCurrent Length =  145247\nid =  ChIJd9C4L__1KhMRqYC9WecNuEY 27\nlen =  255\nname =  Lin Xingdao <class 'str'>\n------\nCurrent Length =  145580\nid =  ChIJhxrz8k1fKhMRqzjYIydsUPc 27\nlen =  255\nname =  Otto Tex Di Lin Changsen <class 'str'>\n------\nCurrent Length =  148510\nid =  ChIJUe5ybVJfKhMR_OTNv6xDbGo 27\nlen =  255\nname =  Flash Moda Di Huang Chonghe <class 'str'>\n------\nCurrent Length =  148621\nid =  ChIJv0rQCQD2KhMRpWLD4u7OhaA 27\nlen =  255\nname =  X.D. Pronto Moda Di Han Chunliu <class 'str'>\n------\nCurrent Length =  148892\nid =  ChIJbbuVXVJfKhMRUx_UogVz164 27\nlen =  255\nname =  Neo Image Di Ye Jianxi <class 'str'>\n------\nCurrent Length =  151563\nid =  ChIJuVpQaFJfKhMR9c1QXt3MNSE 27\nlen =  255\nname =  A Xiao Pronto Moda Di Yang Jiachun <class 'str'>\n------\nCurrent Length =  151585\nid =  ChIJs70DZVJfKhMRB2NVH-CIzfI 27\nlen =  255\nname =  Pronto Moda Luisa Di Yu Jingdi <class 'str'>\n------\nCurrent Length =  151805\nid =  ChIJmeov-lJfKhMR0ke5puGuSAY 27\nlen =  255\nname =  M2 Di Jiang Guangrong <class 'str'>\n------\nCurrent Length =  154179\nid =  ChIJlVxh_E5fKhMRZ_0Ew6UQMmM 27\nlen =  255\nname =  Pan Jing <class 'str'>\n------\nCurrent Length =  154527\nid =  ChIJoTFVBVNfKhMRMwRTUy1BHcY 27\nlen =  255\nname =  Ristorante Xin Dou <class 'str'>\n------\nCurrent Length =  154626\nid =  ChIJ4ZWfJdb1KhMRoprCGMe9vMQ 27\nlen =  255\nname =  Biancheria Di Cristina Di Yang Xiao Wu <class 'str'>\n------\nCurrent Length =  159725\nid =  ChIJzWpdOFNfKhMRbSSP9U0rPSk 27\nlen =  255\nname =  Mei Yunhao <class 'str'>\n------\nCurrent Length =  161116\nid =  ChIJzWpdOFNfKhMRD5N7gTlBV9w 27\nlen =  255\nname =  Stamperia Wanda Di Qiu Chuapeng <class 'str'>\n------\nCurrent Length =  161139\nid =  ChIJnbVsU1VfKhMRm238INZPmfo 27\nlen =  255\nname =  Spice Fashion Di Fang Rensheng <class 'str'>\n------\nCurrent Length =  161240\nid =  ChIJd5HitU9fKhMRFL1UEI889TU 27\nlen =  255\nname =  Pronto Moda Teresa Di Jiang Jinyun <class 'str'>\n------\nCurrent Length =  161292\nid =  ChIJTQK_-f_1KhMR0CSyG3jKYCw 27\nlen =  255\nname =  Chi Lanxiang <class 'str'>\n------\nCurrent Length =  161326\nid =  ChIJmbMY4__1KhMRWOBTLH65af0 27\nlen =  255\nname =  He Fenglei <class 'str'>\n------\nCurrent Length =  161480\nid =  ChIJo1EX4v_1KhMRjcbN6lauSmM 27\nlen =  255\nname =  Xcs Di Zhemg Chunwei <class 'str'>\n------\nCurrent Length =  161490\nid =  ChIJl35RJ-D1KhMRdugCyZ_Hj98 27\nlen =  255\nname =  Confezione Zeng Qingxiang Individuale <class 'str'>\n------\nCurrent Length =  162840\nid =  ChIJAZxJ1Nf1KhMRekGermXIXmo 27\nlen =  255\nname =  Confezione Zhou Yongqing <class 'str'>\n------\nCurrent Length =  164834\nid =  ChIJd5HitU9fKhMRqdjugZTTMh8 27\nlen =  255\nname =  Lian Tong Di Lu Zhenteng <class 'str'>\n------\nCurrent Length =  165984\nid =  ChIJW6eqSHX2KhMREx4a7N9owp4 27\nlen =  255\nname =  D.D Tex Di Wang Shibo <class 'str'>\n------\nCurrent Length =  167907\nid =  ChIJJadlfcpYKhMRXInCk2HDJDE 27\nlen =  255\nname =  Uniflorido Tex Di Wang Xingchi <class 'str'>\n------\nCurrent Length =  175701\nid =  ChIJK4dosHn2KhMR9TT__v9Ku2w 27\nlen =  255\nname =  Supermercato Rong Cheng Chao Shi <class 'str'>\n------\nCurrent Length =  179434\nid =  ChIJG607QrNYKhMRB0_VTEvHxKA 27\nlen =  255\nname =  G.c.h. Di Wu Weizhen <class 'str'>\n------\nCurrent Length =  180465\nid =  ChIJp92HTapYKhMRQwTwa3Cchts 27\nlen =  255\nname =  Hermes Jersey Di Jiang Qiyou <class 'str'>\n------\nCurrent Length =  180539\nid =  ChIJXws6LAv2KhMR5q-p1zKe-3M 27\nlen =  255\nname =  Toscana Infissi Di Zhang Xiuxiang <class 'str'>\n------\nCurrent Length =  181464\nid =  ChIJD5JwUHf2KhMRtEwS_eUiROM 27\nlen =  255\nname =  Chen Aizhong <class 'str'>\n------\nCurrent Length =  185701\nid =  ChIJKUwWeq5YKhMRsOHtS4FxA0o 27\nlen =  255\nname =  Maglificio Shirley Di Cai Fengmei <class 'str'>\n------\nCurrent Length =  190682\nid =  ChIJtcg6BXr2KhMRyG6QRQ7d1Es 27\nlen =  255\nname =  Ristorante Bai Li Xian <class 'str'>\n------\nCurrent Length =  192018\nid =  ChIJoxKuea5YKhMR7CclmW6O70U 27\nlen =  255\nname =  M&B Di Liu Bing <class 'str'>\n------\nCurrent Length =  193232\nid =  ChIJfezCmVz3KhMR3atFdUnSAy0 27\nlen =  255\nname =  Rosticceria Jian Bing Xia <class 'str'>\n------\nCurrent Length =  195045\nid =  ChIJsXG_inD2KhMRP07f_yE7mxs 27\nlen =  255\nname =  Lin Xiao <class 'str'>\n------\nCurrent Length =  198156\nid =  ChIJeWMSKq5YKhMRNu9DJPxF_X8 27\nlen =  255\nname =  Stireria Paolo Di Zheng Changguan <class 'str'>\n------\nCurrent Length =  202978\nid =  ChIJbVC0nnr2KhMRERIidagdVAQ 27\nlen =  255\nname =  B&B Hao Xi Hao <class 'str'>\n------\nCurrent Length =  205571\nid =  ChIJl9UlGHD2KhMRzK5VqkKeVOM 27\nlen =  255\nname =  Pasticceria Kuai Lu <class 'str'>\n------\nCurrent Length =  208958\nid =  ChIJDZtfBnD2KhMRPcjSHAEYTxA 27\nlen =  255\nname =  Xu Guozhong <class 'str'>\n------\nCurrent Length =  209193\nid =  ChIJzTaPAob2KhMR5U-eKNNZR4s 27\nlen =  255\nname =  Suzhou Wuzhong Chemical Fiber Co.,Ltd. <class 'str'>\n------\nCurrent Length =  209960\nid =  ChIJZ_MM22_2KhMRxBSx4BVKbnk 27\nlen =  255\nname =  Yi Xian Tian <class 'str'>\n------\nCurrent Length =  212436\nid =  ChIJfxeLEa31KhMR8yTlTQFjO1E 27\nlen =  255\nname =  Jin Yan S.N.C. di Hu Yunshe & C. <class 'str'>\n------\nCurrent Length =  212480\nid =  ChIJCc7DyW_2KhMR75gAQRgqvn8 27\nlen =  255\nname =  Zheng Gen <class 'str'>\n------\nCurrent Length =  216710\nid =  ChIJT-iDoxz2KhMRE84MSAleAjQ 27\nlen =  255\nname =  Ristorante Long Feng Sas Di Sheng Liansong <class 'str'>\n------\nCurrent Length =  220078\nid =  ChIJW1lstm32KhMRyFHMLJT4ySY 27\nlen =  255\nname =  Studio Robbi Sas Di Zhong Rongchang <class 'str'>\n------\nCurrent Length =  221222\nid =  ChIJU2q2Rm72KhMRWzVPdh2Qob4 27\nlen =  255\nname =  Yili Abbigliamento Di Wang Daochuan <class 'str'>\n------\nCurrent Length =  221424\nid =  ChIJ3YQht2_2KhMRDQAf-dCj8xE 27\nlen =  255\nname =  Ristorante Wu Mei <class 'str'>\n------\nCurrent Length =  221515\nid =  ChIJV-YlvW_2KhMR22AhAfeWC5c 27\nlen =  255\nname =  Ding Hao <class 'str'>\n------\nCurrent Length =  221908\nid =  ChIJUwX7ShL2KhMRgOl9EhaGVPI 27\nlen =  255\nname =  Heng Tong Di Jin Yinming <class 'str'>\n------\nCurrent Length =  225232\nid =  ChIJD5m3Am32KhMRsBFEilvWMao 27\nlen =  255\nname =  L2di Zhengliang Lin <class 'str'>\n------\nCurrent Length =  225313\nid =  ChIJ1_dDKmz2KhMRavMDQTCCKlI 27\nlen =  255\nname =  Pasticceria Hua Tian Xi Pu <class 'str'>\n------\nCurrent Length =  225669\nid =  ChIJk2nFgG72KhMRkp-wLfDNj18 27\nlen =  255\nname =  Dong Fang Arredamenti <class 'str'>\n------\nCurrent Length =  225707\nid =  ChIJ4ZoLDm_2KhMRqJPNGSdjjOA 27\nlen =  255\nname =  Studio Rise Wing Di Huang Manfeng <class 'str'>\n------\nCurrent Length =  226487\nid =  ChIJQf1fmW72KhMR18UeV5LzvXg 27\nlen =  255\nname =  Jin Jiang Ristorante <class 'str'>\n------\nCurrent Length =  230397\nid =  ChIJgUG_5G72KhMRCHci5ds9StU 27\nlen =  255\nname =  Telefonia Jin Cheng <class 'str'>\n------\nCurrent Length =  230616\nid =  ChIJyfuE_G72KhMRZn7uBixVLwo 27\nlen =  255\nname =  Qi Fei Agenzia Di Jiang Jinhe <class 'str'>\n------\nCurrent Length =  230635\nid =  ChIJjSlr5m72KhMRpBk5fGGOg6w 27\nlen =  255\nname =  Jiamei Fast Food Di Chen Jianzhong <class 'str'>\n------\nCurrent Length =  230685\nid =  ChIJd6ST_G72KhMRJmIsr0C2jSw 27\nlen =  255\nname =  Ristorante Wen Zhou <class 'str'>\n------\nCurrent Length =  230719\nid =  ChIJI50q5m72KhMRkhpYMWTB_GU 27\nlen =  255\nname =  Carrozzeria Hongxin Di Dong Wenguo <class 'str'>\n------\nCurrent Length =  230777\nid =  ChIJu3AC5272KhMRdFAasXi9yTo 27\nlen =  255\nname =  Ruilong Di Zhao Hailong <class 'str'>\n------\nCurrent Length =  230862\nid =  ChIJbYgH_W72KhMRtgBLV8BiXDA 27\nlen =  255\nname =  Ristorante Xinchanglai <class 'str'>\n------\nCurrent Length =  230885\nid =  ChIJbx4lDm_2KhMR8oeMuHllW1w 27\nlen =  255\nname =  Pasticceria Jin Lu Di Chen Qi <class 'str'>\n------\nCurrent Length =  230961\nid =  ChIJM6KZ4XH2KhMR7hVovQOpMTM 27\nlen =  255\nname =  Pasticceria Jin Lu Di Chen Qi <class 'str'>\n------\nCurrent Length =  231003\nid =  ChIJj2vhwm72KhMRKK0bB--J1_k 27\nlen =  255\nname =  Pescheria Jiale <class 'str'>\n------\nCurrent Length =  234726\nid =  ChIJa3GSEa31KhMRSqni5yr5vac 27\nlen =  255\nname =  Ke Ji Dian Nao Shou Ji Dian Di Dai Changxing <class 'str'>\n------\nCurrent Length =  234933\nid =  ChIJW3Sswm72KhMRZrGeuy0k2f0 27\nlen =  255\nname =  Citta' D'Oro Di Yu Chen Yu <class 'str'>\n------\nCurrent Length =  235023\nid =  ChIJ26Om4G72KhMRHA4fBWpmQWM 27\nlen =  255\nname =  XIAO LIN MARKET <class 'str'>\n------\nCurrent Length =  235097\nid =  ChIJ9YAD1Wj2KhMRswlKBdu8QSA 27\nlen =  255\nname =  Jin Xin Di Zhou Cailing <class 'str'>\n------\nCurrent Length =  235257\nid =  ChIJx9pWOW_2KhMR5BVOjQkz9NU 27\nlen =  255\nname =  xinwanshihao mobili <class 'str'>\n------\nCurrent Length =  235287\nid =  ChIJcUY45mP2KhMRodxxHxNP7OU 27\nlen =  255\nname =  Rosticceria Bai Wei <class 'str'>\n------\nCurrent Length =  235893\nid =  ChIJG3DG1IX3KhMRRxV3P16Lqfo 27\nlen =  255\nname =  Shan Yunhai <class 'str'>\n------\nCurrent Length =  239862\nid =  ChIJnbHNym72KhMRlXBgtder-Hw 27\nlen =  255\nname =  Il Telaio Zhang Xiang Ding <class 'str'>\n------\nCurrent Length =  239873\nid =  ChIJjcQZNWn2KhMR9nZCYPci5n4 27\nlen =  255\nname =  Kangnai <class 'str'>\n------\nCurrent Length =  239980\nid =  ChIJBy-iNWn2KhMR8T1gp3We4RE 27\nlen =  255\nname =  Jia Fangliang <class 'str'>\n------\nCurrent Length =  239990\nid =  ChIJvWzbMAVZKhMRIpSpmtP_en0 27\nlen =  255\nname =  Century Tex di Mu Naiying <class 'str'>\n------\nCurrent Length =  242751\nid =  ChIJ6xyEz21ZKhMRN0aYIBgtz60 27\nlen =  255\nname =  Century Tex di Mu Naiying <class 'str'>\n------\nCurrent Length =  242776\nid =  ChIJ7RQsthb2KhMRLoPQb2xgRsM 27\nlen =  255\nname =  Parafarmacia Zhonghua Srl <class 'str'>\n------\nCurrent Length =  244113\nid =  ChIJ1wVT-mv2KhMRu3iE8QMTQuw 27\nlen =  255\nname =  Angelo Di Huang Yue He <class 'str'>\n------\nCurrent Length =  245047\nid =  ChIJTeToSWn2KhMRgwAfBIUXICo 27\nlen =  255\nname =  MAI JIE Telefonia <class 'str'>\n------\nCurrent Length =  245217\nid =  ChIJdYawQ2n2KhMRTZ7nQNb8Ilo 27\nlen =  255\nname =  Parrucchiera Zhen Zhen <class 'str'>\n------\nCurrent Length =  250584\nid =  ChIJaSagmaBYKhMRYYKzXC5uPvg 27\nlen =  255\nname =  Nihao Tex Di Wang Xiumei <class 'str'>\n------\nCurrent Length =  253105\nid =  ChIJwwijBWn2KhMRNl5k2j8DD9A 27\nlen =  255\nname =  Zhang Zhengyu <class 'str'>\n------\nCurrent Length =  255734\nid =  ChIJr2aOxFX3KhMRRANyiPJDQOo 27\nlen =  255\nname =  Express Chengyi <class 'str'>\n------\nCurrent Length =  255756\nid =  ChIJnSPxKmb2KhMRQDDL7GKNsvc 27\nlen =  255\nname =  Hua Long <class 'str'>\n------\nCurrent Length =  256074\nid =  ChIJ9XQR86BYKhMRiyVH2TGtI14 27\nlen =  255\nname =  Damasco Di Wu Baojin <class 'str'>\n------\nCurrent Length =  259019\nid =  ChIJdY57Jmr2KhMR5DJZ3VSUrVo 27\nlen =  255\nname =  Xing Yuan Immobiliare <class 'str'>\n------\nCurrent Length =  262341\nid =  ChIJXZdFDGj2KhMRiuo8eMNVcqY 27\nlen =  255\nname =  Kai Yue Di Huang Qingshou Sas <class 'str'>\n------\nCurrent Length =  270401\nid =  ChIJkwUed132KhMRkfjQBU2K3d0 27\nlen =  255\nname =  Campanella sunzhixiang <class 'str'>\n------\nCurrent Length =  288406\nid =  ChIJIXgj4z32KhMRMfb8AWXfAEE 27\nlen =  255\nname =  MENGDI ITALIA SRL <class 'str'>\n------\nCurrent Length =  292042\nid =  ChIJSTzcPihfKhMRqTbbqpUA8_M 27\nlen =  255\nname =  GUOJIA DESIGN STUDIO <class 'str'>\n------\nCurrent Length =  295045\nid =  ChIJ8a3Cm5dYKhMR3MNOSmaMZ5I 27\nlen =  255\nname =  Stamperia Millenium Di Xu Xiaozhen <class 'str'>\n------\nCurrent Length =  319389\nid =  ChIJE4T-I5hYKhMR3KrOFDWeqFc 27\nlen =  255\nname =  Ht Di Gao Manling <class 'str'>\n------\nCurrent Length =  319423\nid =  ChIJb3VYG0H2KhMRGP8SjxGgy8o 27\nlen =  255\nname =  Le Bigonge <class 'str'>\n------\nCurrent Length =  324589\nid =  ChIJU5yQ85ZYKhMRZ7kDB4O0cfQ 27\nlen =  255\nname =  Chen Xiuying <class 'str'>\n------\nCurrent Length =  330773\nid =  ChIJsYMcI5lYKhMRrBSw7VzSHH4 27\nlen =  255\nname =  Fashion Tex Di Liu Yicai <class 'str'>\n------\nCurrent Length =  330997\nid =  ChIJ2-ObvZZYKhMRBn9NiArl-Ew 27\nlen =  255\nname =  Li Ling Ling <class 'str'>\n------\nCurrent Length =  340146\nid =  ChIJYWjTNJlYKhMRvaymFBXrnuA 27\nlen =  255\nname =  Willtex Di Wang Guoyin <class 'str'>\n------\nCurrent Length =  340252\nid =  ChIJCUfRhUP2KhMRF0mupAhWdlw 27\nlen =  255\nname =  Zhu Chunping Mania <class 'str'>\n------\nCurrent Length =  347186\nid =  ChIJ8Rlk-JpYKhMRm2xEW5zVU6s 27\nlen =  255\nname =  R.S. di zhangxuechai <class 'str'>\n------\nCurrent Length =  350367\nid =  ChIJG6Zw0zj2KhMRBLsQLP1UyYA 27\nlen =  255\nname =  Circolo Yi Hao Gong Guan <class 'str'>\n------\nCurrent Length =  352738\nid =  ChIJj77VAkT2KhMRGut1CaP72iw 27\nlen =  255\nname =  Rosticceria Lin Xin <class 'str'>\n------\nCurrent Length =  355794\nid =  ChIJiQqhupBYKhMRkrZoYHbG6wU 27\nlen =  255\nname =  J.D.L. Di Su Xiaozhen <class 'str'>\n------\nCurrent Length =  359076\nid =  ChIJ-1OIbldfKhMRvpLrCC9zZyo 27\nlen =  255\nname =  Biancheria Di Cristina Di Yang Xiao Wu <class 'str'>\n------\nCurrent Length =  377436\nid =  ChIJ7yeCD2n2KhMR002Fxs78eKU 27\nlen =  255\nname =  Huang Marco <class 'str'>\n------\nCurrent Length =  381938\nid =  ChIJf2B0pln2KhMRTRrmnpgIFQY 27\nlen =  255\nname =  Mei Alessandro <class 'str'>\n------\nCurrent Length =  383666\nid =  ChIJeTspi0f2KhMRzSeklwIJMco 27\nlen =  255\nname =  Mania Di Zhu Chunping <class 'str'>\n------\nCurrent Length =  388531\nid =  ChIJoX2tS0b2KhMRsa0PxvVDtgA 27\nlen =  255\nname =  Sushi Yi Prato <class 'str'>\n------\nCurrent Length =  389766\nid =  ChIJ9d_s-7RZKhMR2z4G6sbWI6A 27\nlen =  255\nname =  X.M. di ZhuAili <class 'str'>\n------\nCurrent Length =  391702\nid =  ChIJUT3T65pYKhMR-9lPrHLe8Dw 27\nlen =  255\nname =  Emme Filati Di Ji Shihu <class 'str'>\n------\nCurrent Length =  399003\nid =  ChIJa50Q7Sf2KhMRePLxEFpz9XE 27\nlen =  255\nname =  Quality Control Di Xia Risheng <class 'str'>\n------\nCurrent Length =  399229\nid =  ChIJUahxle1YKhMR0-gfPkpDNmo 27\nlen =  255\nname =  S.S Imp-Exsp Di Zhou Jianjing <class 'str'>\n------\nCurrent Length =  406482\nid =  ChIJZ_3Hlu1YKhMRHIhNGgvIPNc 27\nlen =  255\nname =  G.c.h. Di Wu Weizhen <class 'str'>\n------\nCurrent Length =  406511\nid =  ChIJwdYjbe1YKhMRE3CrIx0PH5E 27\nlen =  255\nname =  Stamperia Fantasy Di Jin Xiangyin <class 'str'>\n------\nCurrent Length =  406531\nid =  ChIJ-QyxsZpYKhMRG8yTuTIQBhU 27\nlen =  255\nname =  90 Per Cento Di Hu Wenmei <class 'str'>\n------\nCurrent Length =  407013\nid =  ChIJk-s8nfJYKhMRZjFz5rE0Uek 27\nlen =  255\nname =  C.L. Di Zhou Jinwei <class 'str'>\n------\nCurrent Length =  413552\nid =  ChIJG_pTFEn2KhMR4RpNXv-4xSA 27\nlen =  255\nname =  Weili S.r.l. <class 'str'>\n------\nCurrent Length =  429573\nid =  ChIJxYriOYRYKhMR1P_ToGC-Z3A 27\nlen =  255\nname =  Igea Group Sas Di Lu Wangmei E C <class 'str'>\n------\nCurrent Length =  451750\nid =  ChIJxafvIoRYKhMRfkxRtPqAvvw 27\nlen =  255\nname =  Pronto Moda Lina Di Yang Xiangjun <class 'str'>\n------\nCurrent Length =  468531\nid =  ChIJa-KK_5n3KhMRoQkN6rvbnQA 27\nlen =  255\nname =  Brazilian Jiu Jitsu Prato <class 'str'>\n------\nCurrent Length =  485210\nid =  ChIJEZ4hxXBYKhMRD8IxZzFrFrY 27\nlen =  255\nname =  Lin'S Di Wu Yuyan <class 'str'>\n------\nCurrent Length =  501875\nid =  ChIJL3JUjw5YKhMRditaaO6D_Bk 27\nlen =  255\nname =  Liu Jo <class 'str'>\n------\nCurrent Length =  512021\ncnt =  23388\nnow =  23388\n"
    }
   ],
   "source": [
    "cur = con.cursor()\n",
    "cur.execute(\"select * from function where is_Chinese = False\")\n",
    "rows = cur.fetchall()\n",
    "\n",
    "from google.cloud import translate_v2 as translate\n",
    "translate_client = translate.Client()\n",
    "\n",
    "cnt = 0\n",
    "length = 0\n",
    "\n",
    "for row in rows:\n",
    "    cnt += 1\n",
    "    if(cnt > now):\n",
    "        now = cnt\n",
    "    if(cnt < now):\n",
    "        continue\n",
    "    \n",
    "    name = row[6].strip()\n",
    "    placeid = row[0].strip()\n",
    "\n",
    "    result = translate_client.detect_language(name)\n",
    "    if(('zh' in result['language'])):\n",
    "        print(\"id = \", row[0].strip(), len(row[0].strip()))\n",
    "        print(\"len = \", len(row[0]))\n",
    "        print(\"name = \", row[6].strip(), type(row[6]))\n",
    "        print(\"------\")\n",
    "        placeid = placeid.ljust(255, ' ')\n",
    "        print(\"Current Length = \", length)\n",
    "        cur = con.cursor()\n",
    "        cur.execute(\"Update function set is_Chinese = True where placeid = \\'{}\\'\".format(placeid))\n",
    "  \n",
    "    length += len(name)\n",
    "    if(length > 490000):\n",
    "        break\n",
    "\n",
    "print(\"cnt = \", cnt)\n",
    "print(\"now = \", now)\n",
    "cur.close()"
   ]
  },
  {
   "cell_type": "code",
   "execution_count": 4,
   "metadata": {},
   "outputs": [
    {
     "name": "stdout",
     "output_type": "stream",
     "text": "ms\n"
    }
   ],
   "source": [
    "import langid\n",
    "\n",
    "s1 = \"nihao\"\n",
    "\n",
    "arr = langid.classify(s1)\n",
    "print(arr[0])\n"
   ]
  },
  {
   "cell_type": "code",
   "execution_count": 8,
   "metadata": {},
   "outputs": [
    {
     "name": "stdout",
     "output_type": "stream",
     "text": "Text: Drago D'Oro Di Huang Xinxin E C. Sas\nConfidence: 0.74094557762146\nLanguage: zh-CN\nzh\n"
    }
   ],
   "source": [
    "from google.cloud import translate_v2 as translate\n",
    "translate_client = translate.Client()\n",
    "\n",
    "text = \"Drago D'Oro Di Huang Xinxin E C. Sas\"\n",
    "result = translate_client.detect_language(text)\n",
    "\n",
    "print('Text: {}'.format(text))\n",
    "print('Confidence: {}'.format(result['confidence']))\n",
    "print('Language: {}'.format(result['language']))\n",
    "\n",
    "if(('zh' in result['language'])):\n",
    "    print(\"zh\")"
   ]
  },
  {
   "cell_type": "code",
   "execution_count": 0,
   "metadata": {},
   "outputs": [],
   "source": [
    "def implicit():\n",
    "    from google.cloud import storage\n",
    "\n",
    "    # If you don't specify credentials when constructing the client, the\n",
    "    # client library will look for credentials in the environment.\n",
    "    storage_client = storage.Client()\n",
    "\n",
    "    # Make an authenticated API request\n",
    "    buckets = list(storage_client.list_buckets())\n",
    "    print(buckets)"
   ]
  },
  {
   "cell_type": "code",
   "execution_count": 13,
   "metadata": {},
   "outputs": [
    {
     "data": {
      "text/plain": "'sw'"
     },
     "execution_count": 13,
     "metadata": {},
     "output_type": "execute_result"
    }
   ],
   "source": [
    "from langdetect import detect\n",
    "detect('nihao')"
   ]
  },
  {
   "cell_type": "code",
   "execution_count": 4,
   "metadata": {},
   "outputs": [
    {
     "name": "stdout",
     "output_type": "stream",
     "text": "255\n"
    }
   ],
   "source": [
    "placeid = \"ChIJE0_8U-z3KhMRzernOkCKdkE\"\n",
    "placeid = placeid.ljust(255, ' ')\n",
    "print(len(placeid))\n",
    "\n",
    "cur = con.cursor()\n",
    "cur.execute(\"Update function set is_Chinese = True where placeid = \\'{}\\'\".format(placeid))\n"
   ]
  },
  {
   "cell_type": "code",
   "execution_count": null,
   "metadata": {},
   "outputs": [],
   "source": [
    "cur = con.cursor()\n",
    "placeid = \"ChIJg6b1Z1dfKhMReIuFmZL5_Yo\"\n",
    "placeid = placeid.ljust(255, ' ')\n",
    "print(placeid)\n",
    "cur.execute(\"select * from function where placeid = \\'{}\\'\".format(placeid))\n",
    "rows = cur.fetchall()\n",
    "\n",
    "tot = 0\n",
    "for row in rows:\n",
    "    tot += 1\n",
    "    print(\"id = \", row[0].strip())\n",
    "    print(\"name = \", row[6].strip())\n",
    "    print(\"is_Chinese\", row[5])\n",
    "\n",
    "print(tot)"
   ]
  }
 ]
}